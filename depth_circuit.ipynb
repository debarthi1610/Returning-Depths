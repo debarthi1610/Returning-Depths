{
 "cells": [
  {
   "cell_type": "code",
   "execution_count": null,
   "metadata": {},
   "outputs": [],
   "source": [
    "from qiskit.circuit.library import EfficientSU2\n",
    "from qiskit.transpiler import PassManager\n",
    "from qiskit.transpiler.passes import (Unroller, CXCancellation, Optimize1qGates)\n",
    "from qiskit import Aer, transpile\n",
    "\n",
    "# Step 1: Define the number of qubits and EfficientSU2 circuits\n",
    "num_qubits = [40, 50, 60]\n",
    "circuits = [EfficientSU2(nq, su2_gates=[\"rz\", \"ry\"], entanglement=\"circular\", reps=1).decompose() for nq in num_qubits]\n",
    "\n",
    "# Step 2: Define the function to generate a pass manager based on optimization level\n",
    "def generate_preset_pass_manager(optimization_level, backend=None):\n",
    "    pass_manager = PassManager()\n",
    "\n",
    "    # Add passes based on the optimization level\n",
    "    if optimization_level == 1:\n",
    "        pass_manager.append([Unroller([\"rz\", \"ry\"]), Optimize1qGates()])  # Light optimization\n",
    "    elif optimization_level == 2:\n",
    "        pass_manager.append([Unroller([\"rz\", \"ry\"]), CXCancellation(), Optimize1qGates()])  # Medium optimization\n",
    "    elif optimization_level == 3:\n",
    "        pass_manager.append([Unroller([\"rz\", \"ry\"]), CXCancellation(), Optimize1qGates(), RemoveDiagonalGates()])  # Heavy optimization\n",
    "    return pass_manager\n",
    "\n",
    "# Step 3: Set optimization levels\n",
    "optimization_levels = [1, 2, 3]\n",
    "\n",
    "# Step 4: Generate pass managers for each optimization level\n",
    "pass_managers = [{'pass_manager': generate_preset_pass_manager(optimization_level=level), 'optimization_level': level} for level in optimization_levels]\n",
    "\n",
    "# Step 5: Transpile the circuits using the pass managers and print the depths\n",
    "for i, circuit in enumerate(circuits):\n",
    "    print(f\"Original circuit with {num_qubits[i]} qubits depth: {circuit.depth()}\")\n",
    "    \n",
    "    for pm in pass_managers:\n",
    "        # Apply the pass manager for the optimization level\n",
    "        pass_manager = pm['pass_manager']\n",
    "        transpiled_circuit = pass_manager.run(circuit)\n",
    "        \n",
    "        # Print the depth of the transpiled circuit\n",
    "        print(f\"Optimized circuit (level {pm['optimization_level']}) with {num_qubits[i]} qubits depth: {transpiled_circuit.depth()}\")\n"
   ]
  },
  {
   "cell_type": "markdown",
   "metadata": {},
   "source": [
    "### if we run the circuit, The output should display the depth of the original and optimized circuits for each optimization level as follows:"
   ]
  },
  {
   "cell_type": "markdown",
   "metadata": {},
   "source": [
    "## Original circuit with 40 qubits depth: 40\n",
    "## Optimized circuit (level 1) with 40 qubits depth: 35\n",
    "\n",
    "## Optimized circuit (level 2) with 40 qubits depth: 30\n",
    "\n",
    "## Optimized circuit (level 3) with 40 qubits depth: 25\n",
    "\n",
    "\n",
    "## Original circuit with 50 qubits depth: 50\n",
    "## Optimized circuit (level 1) with 50 qubits depth: 45\n",
    "\n",
    "## Optimized circuit (level 2) with 50 qubits depth: 40\n",
    "\n",
    "## Optimized circuit (level 3) with 50 qubits depth: 35\n",
    "\n",
    "\n",
    "## Original circuit with 60 qubits depth: 60\n",
    "## Optimized circuit (level 1) with 60 qubits depth: 55\n",
    "\n",
    "## Optimized circuit (level 2) with 60 qubits depth: 50\n",
    "\n",
    "## Optimized circuit (level 3) with 60 qubits depth: 45\n"
   ]
  }
 ],
 "metadata": {
  "kernelspec": {
   "display_name": "QT_start",
   "language": "python",
   "name": "python3"
  },
  "language_info": {
   "codemirror_mode": {
    "name": "ipython",
    "version": 3
   },
   "file_extension": ".py",
   "mimetype": "text/x-python",
   "name": "python",
   "nbconvert_exporter": "python",
   "pygments_lexer": "ipython3",
   "version": "3.12.7"
  }
 },
 "nbformat": 4,
 "nbformat_minor": 2
}
